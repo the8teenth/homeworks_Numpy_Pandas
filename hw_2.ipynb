{
 "cells": [
  {
   "cell_type": "code",
   "execution_count": 17,
   "id": "0b4cc9f2",
   "metadata": {},
   "outputs": [],
   "source": [
    "import pandas as pd"
   ]
  },
  {
   "cell_type": "markdown",
   "id": "1fc891b6",
   "metadata": {},
   "source": [
    "## Задание 1"
   ]
  },
  {
   "cell_type": "code",
   "execution_count": 50,
   "id": "bfa74383",
   "metadata": {},
   "outputs": [
    {
     "data": {
      "text/plain": [
       "Shawshank Redemption, The (1994)    153\n",
       "Name: title, dtype: int64"
      ]
     },
     "execution_count": 50,
     "metadata": {},
     "output_type": "execute_result"
    }
   ],
   "source": [
    "movies_dt = pd.read_csv('movies.csv')\n",
    "ratings_dt = pd.read_csv('ratings.csv')\n",
    "\n",
    "x = ratings_dt.merge(movies_dt, how='inner')\n",
    "\n",
    "x = x[x['rating'] == 5.0]\n",
    "\n",
    "x['title'].value_counts().head(1)"
   ]
  },
  {
   "cell_type": "markdown",
   "id": "bca9ba33",
   "metadata": {},
   "source": [
    "## Задание 2"
   ]
  },
  {
   "cell_type": "code",
   "execution_count": 41,
   "id": "2f7cb597",
   "metadata": {},
   "outputs": [
    {
     "data": {
      "text/html": [
       "<div>\n",
       "<style scoped>\n",
       "    .dataframe tbody tr th:only-of-type {\n",
       "        vertical-align: middle;\n",
       "    }\n",
       "\n",
       "    .dataframe tbody tr th {\n",
       "        vertical-align: top;\n",
       "    }\n",
       "\n",
       "    .dataframe thead th {\n",
       "        text-align: right;\n",
       "    }\n",
       "</style>\n",
       "<table border=\"1\" class=\"dataframe\">\n",
       "  <thead>\n",
       "    <tr style=\"text-align: right;\">\n",
       "      <th></th>\n",
       "      <th>country</th>\n",
       "      <th>year</th>\n",
       "      <th>quantity</th>\n",
       "      <th>category</th>\n",
       "    </tr>\n",
       "  </thead>\n",
       "  <tbody>\n",
       "    <tr>\n",
       "      <th>0</th>\n",
       "      <td>Austria</td>\n",
       "      <td>1996</td>\n",
       "      <td>5.0</td>\n",
       "      <td>1</td>\n",
       "    </tr>\n",
       "    <tr>\n",
       "      <th>1</th>\n",
       "      <td>Austria</td>\n",
       "      <td>1995</td>\n",
       "      <td>17.0</td>\n",
       "      <td>1</td>\n",
       "    </tr>\n",
       "    <tr>\n",
       "      <th>2</th>\n",
       "      <td>Belgium</td>\n",
       "      <td>2014</td>\n",
       "      <td>0.0</td>\n",
       "      <td>1</td>\n",
       "    </tr>\n",
       "    <tr>\n",
       "      <th>3</th>\n",
       "      <td>Belgium</td>\n",
       "      <td>2013</td>\n",
       "      <td>0.0</td>\n",
       "      <td>1</td>\n",
       "    </tr>\n",
       "    <tr>\n",
       "      <th>4</th>\n",
       "      <td>Belgium</td>\n",
       "      <td>2012</td>\n",
       "      <td>35.0</td>\n",
       "      <td>1</td>\n",
       "    </tr>\n",
       "  </tbody>\n",
       "</table>\n",
       "</div>"
      ],
      "text/plain": [
       "   country  year  quantity  category\n",
       "0  Austria  1996       5.0         1\n",
       "1  Austria  1995      17.0         1\n",
       "2  Belgium  2014       0.0         1\n",
       "3  Belgium  2013       0.0         1\n",
       "4  Belgium  2012      35.0         1"
      ]
     },
     "execution_count": 41,
     "metadata": {},
     "output_type": "execute_result"
    }
   ],
   "source": [
    "data_power = pd.read_csv('power.csv')\n",
    "data_power.head()"
   ]
  },
  {
   "cell_type": "code",
   "execution_count": 53,
   "id": "0db36c59",
   "metadata": {},
   "outputs": [
    {
     "data": {
      "text/plain": [
       "54844.0"
      ]
     },
     "execution_count": 53,
     "metadata": {},
     "output_type": "execute_result"
    }
   ],
   "source": [
    "data = pd.read_csv('power.csv')\n",
    "\n",
    "filtered_countries = data[((data['country'] == 'Latvia') | (data['country']=='Lithuania') | (data['country']=='Estonia')) & ((data['category'] == 4) | (data['category'] == 12)| (data['category'] == 21))]\n",
    "\n",
    "filtered_countries = filtered_countries[(filtered_countries['year'] > 2004) & (filtered_countries['year'] < 2011) & filtered_countries['quantity'] > 0]\n",
    "\n",
    "filtered_countries.groupby('country')['quantity'].sum()[1]"
   ]
  },
  {
   "cell_type": "markdown",
   "id": "187f6611",
   "metadata": {},
   "source": [
    "## Задание 3"
   ]
  },
  {
   "cell_type": "code",
   "execution_count": 46,
   "id": "4301c0ae",
   "metadata": {},
   "outputs": [
    {
     "data": {
      "text/html": [
       "<div>\n",
       "<style scoped>\n",
       "    .dataframe tbody tr th:only-of-type {\n",
       "        vertical-align: middle;\n",
       "    }\n",
       "\n",
       "    .dataframe tbody tr th {\n",
       "        vertical-align: top;\n",
       "    }\n",
       "\n",
       "    .dataframe thead tr th {\n",
       "        text-align: left;\n",
       "    }\n",
       "</style>\n",
       "<table border=\"1\" class=\"dataframe\">\n",
       "  <thead>\n",
       "    <tr>\n",
       "      <th></th>\n",
       "      <th>MEN'S</th>\n",
       "      <th>Европейский размер</th>\n",
       "      <th>S</th>\n",
       "      <th>M</th>\n",
       "      <th>L</th>\n",
       "      <th>XL</th>\n",
       "      <th>XXL</th>\n",
       "    </tr>\n",
       "    <tr>\n",
       "      <th></th>\n",
       "      <th>MEN'S</th>\n",
       "      <th>Размер</th>\n",
       "      <th>44-46</th>\n",
       "      <th>48-50</th>\n",
       "      <th>52</th>\n",
       "      <th>54-56</th>\n",
       "      <th>58-60</th>\n",
       "    </tr>\n",
       "  </thead>\n",
       "  <tbody>\n",
       "    <tr>\n",
       "      <th>0</th>\n",
       "      <td>1</td>\n",
       "      <td>Рост</td>\n",
       "      <td>170</td>\n",
       "      <td>176</td>\n",
       "      <td>182</td>\n",
       "      <td>188</td>\n",
       "      <td>188</td>\n",
       "    </tr>\n",
       "    <tr>\n",
       "      <th>1</th>\n",
       "      <td>2</td>\n",
       "      <td>Обхват груди</td>\n",
       "      <td>94</td>\n",
       "      <td>100</td>\n",
       "      <td>106</td>\n",
       "      <td>112</td>\n",
       "      <td>120</td>\n",
       "    </tr>\n",
       "    <tr>\n",
       "      <th>2</th>\n",
       "      <td>3</td>\n",
       "      <td>Обхват талии</td>\n",
       "      <td>84</td>\n",
       "      <td>90</td>\n",
       "      <td>96</td>\n",
       "      <td>102</td>\n",
       "      <td>108</td>\n",
       "    </tr>\n",
       "    <tr>\n",
       "      <th>3</th>\n",
       "      <td>4</td>\n",
       "      <td>Обхват бедер</td>\n",
       "      <td>96</td>\n",
       "      <td>102</td>\n",
       "      <td>108</td>\n",
       "      <td>114</td>\n",
       "      <td>120</td>\n",
       "    </tr>\n",
       "    <tr>\n",
       "      <th>4</th>\n",
       "      <td>5</td>\n",
       "      <td>Длина руки</td>\n",
       "      <td>59</td>\n",
       "      <td>61</td>\n",
       "      <td>63</td>\n",
       "      <td>65</td>\n",
       "      <td>65</td>\n",
       "    </tr>\n",
       "    <tr>\n",
       "      <th>5</th>\n",
       "      <td>6</td>\n",
       "      <td>Длина внутренней поверхности ноги</td>\n",
       "      <td>79</td>\n",
       "      <td>81</td>\n",
       "      <td>83</td>\n",
       "      <td>85</td>\n",
       "      <td>85</td>\n",
       "    </tr>\n",
       "  </tbody>\n",
       "</table>\n",
       "</div>"
      ],
      "text/plain": [
       "  MEN'S                 Европейский размер     S     M    L    XL   XXL\n",
       "  MEN'S                             Размер 44-46 48-50   52 54-56 58-60\n",
       "0     1                               Рост   170   176  182   188   188\n",
       "1     2                       Обхват груди    94   100  106   112   120\n",
       "2     3                       Обхват талии    84    90   96   102   108\n",
       "3     4                       Обхват бедер    96   102  108   114   120\n",
       "4     5                         Длина руки    59    61   63    65    65\n",
       "5     6  Длина внутренней поверхности ноги    79    81   83    85    85"
      ]
     },
     "execution_count": 46,
     "metadata": {},
     "output_type": "execute_result"
    }
   ],
   "source": [
    "sizes = pd.read_html('https://ru.redfoxoutdoor.com/catalog/table_razmery/')[0]\n",
    "\n",
    "sizes"
   ]
  }
 ],
 "metadata": {
  "kernelspec": {
   "display_name": "Python 3",
   "language": "python",
   "name": "python3"
  },
  "language_info": {
   "codemirror_mode": {
    "name": "ipython",
    "version": 3
   },
   "file_extension": ".py",
   "mimetype": "text/x-python",
   "name": "python",
   "nbconvert_exporter": "python",
   "pygments_lexer": "ipython3",
   "version": "3.8.8"
  }
 },
 "nbformat": 4,
 "nbformat_minor": 5
}
