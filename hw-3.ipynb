{
 "cells": [
  {
   "cell_type": "code",
   "execution_count": 1,
   "id": "a3e4cb70",
   "metadata": {},
   "outputs": [],
   "source": [
    "import pandas as pd"
   ]
  },
  {
   "cell_type": "markdown",
   "id": "e4d3e203",
   "metadata": {},
   "source": [
    "## Задание 1"
   ]
  },
  {
   "cell_type": "code",
   "execution_count": 3,
   "id": "1859a085",
   "metadata": {},
   "outputs": [
    {
     "data": {
      "text/html": [
       "<div>\n",
       "<style scoped>\n",
       "    .dataframe tbody tr th:only-of-type {\n",
       "        vertical-align: middle;\n",
       "    }\n",
       "\n",
       "    .dataframe tbody tr th {\n",
       "        vertical-align: top;\n",
       "    }\n",
       "\n",
       "    .dataframe thead th {\n",
       "        text-align: right;\n",
       "    }\n",
       "</style>\n",
       "<table border=\"1\" class=\"dataframe\">\n",
       "  <thead>\n",
       "    <tr style=\"text-align: right;\">\n",
       "      <th></th>\n",
       "      <th>title</th>\n",
       "      <th>rating</th>\n",
       "      <th>class</th>\n",
       "    </tr>\n",
       "  </thead>\n",
       "  <tbody>\n",
       "    <tr>\n",
       "      <th>0</th>\n",
       "      <td>'71 (2014)</td>\n",
       "      <td>4.000000</td>\n",
       "      <td>medium</td>\n",
       "    </tr>\n",
       "    <tr>\n",
       "      <th>1</th>\n",
       "      <td>'Hellboy': The Seeds of Creation (2004)</td>\n",
       "      <td>4.000000</td>\n",
       "      <td>medium</td>\n",
       "    </tr>\n",
       "    <tr>\n",
       "      <th>2</th>\n",
       "      <td>'Round Midnight (1986)</td>\n",
       "      <td>3.500000</td>\n",
       "      <td>medium</td>\n",
       "    </tr>\n",
       "    <tr>\n",
       "      <th>3</th>\n",
       "      <td>'Salem's Lot (2004)</td>\n",
       "      <td>5.000000</td>\n",
       "      <td>high</td>\n",
       "    </tr>\n",
       "    <tr>\n",
       "      <th>4</th>\n",
       "      <td>'Til There Was You (1997)</td>\n",
       "      <td>4.000000</td>\n",
       "      <td>medium</td>\n",
       "    </tr>\n",
       "    <tr>\n",
       "      <th>5</th>\n",
       "      <td>'Tis the Season for Love (2015)</td>\n",
       "      <td>1.500000</td>\n",
       "      <td>low</td>\n",
       "    </tr>\n",
       "    <tr>\n",
       "      <th>6</th>\n",
       "      <td>'burbs, The (1989)</td>\n",
       "      <td>3.176471</td>\n",
       "      <td>medium</td>\n",
       "    </tr>\n",
       "    <tr>\n",
       "      <th>7</th>\n",
       "      <td>'night Mother (1986)</td>\n",
       "      <td>3.000000</td>\n",
       "      <td>medium</td>\n",
       "    </tr>\n",
       "    <tr>\n",
       "      <th>8</th>\n",
       "      <td>(500) Days of Summer (2009)</td>\n",
       "      <td>3.666667</td>\n",
       "      <td>medium</td>\n",
       "    </tr>\n",
       "    <tr>\n",
       "      <th>9</th>\n",
       "      <td>*batteries not included (1987)</td>\n",
       "      <td>3.285714</td>\n",
       "      <td>medium</td>\n",
       "    </tr>\n",
       "    <tr>\n",
       "      <th>10</th>\n",
       "      <td>...All the Marbles (1981)</td>\n",
       "      <td>2.000000</td>\n",
       "      <td>low</td>\n",
       "    </tr>\n",
       "    <tr>\n",
       "      <th>11</th>\n",
       "      <td>...And Justice for All (1979)</td>\n",
       "      <td>3.166667</td>\n",
       "      <td>medium</td>\n",
       "    </tr>\n",
       "    <tr>\n",
       "      <th>12</th>\n",
       "      <td>00 Schneider - Jagd auf Nihil Baxter (1994)</td>\n",
       "      <td>4.500000</td>\n",
       "      <td>high</td>\n",
       "    </tr>\n",
       "    <tr>\n",
       "      <th>13</th>\n",
       "      <td>1-900 (06) (1994)</td>\n",
       "      <td>4.000000</td>\n",
       "      <td>medium</td>\n",
       "    </tr>\n",
       "    <tr>\n",
       "      <th>14</th>\n",
       "      <td>10 (1979)</td>\n",
       "      <td>3.375000</td>\n",
       "      <td>medium</td>\n",
       "    </tr>\n",
       "  </tbody>\n",
       "</table>\n",
       "</div>"
      ],
      "text/plain": [
       "                                          title    rating   class\n",
       "0                                    '71 (2014)  4.000000  medium\n",
       "1       'Hellboy': The Seeds of Creation (2004)  4.000000  medium\n",
       "2                        'Round Midnight (1986)  3.500000  medium\n",
       "3                           'Salem's Lot (2004)  5.000000    high\n",
       "4                     'Til There Was You (1997)  4.000000  medium\n",
       "5               'Tis the Season for Love (2015)  1.500000     low\n",
       "6                            'burbs, The (1989)  3.176471  medium\n",
       "7                          'night Mother (1986)  3.000000  medium\n",
       "8                   (500) Days of Summer (2009)  3.666667  medium\n",
       "9                *batteries not included (1987)  3.285714  medium\n",
       "10                    ...All the Marbles (1981)  2.000000     low\n",
       "11                ...And Justice for All (1979)  3.166667  medium\n",
       "12  00 Schneider - Jagd auf Nihil Baxter (1994)  4.500000    high\n",
       "13                            1-900 (06) (1994)  4.000000  medium\n",
       "14                                    10 (1979)  3.375000  medium"
      ]
     },
     "execution_count": 3,
     "metadata": {},
     "output_type": "execute_result"
    }
   ],
   "source": [
    "import pandas as pd\n",
    "movies_dt = pd.read_csv('movies.csv')\n",
    "ratings_dt = pd.read_csv('ratings.csv')\n",
    "\n",
    "x = ratings_dt.merge(movies_dt, how='left')\n",
    "\n",
    "films_rating = x.groupby('title').mean().reset_index()[['title', 'rating']]\n",
    "\n",
    "def range_maker(row):\n",
    "    if row['rating'] <= 2.0:\n",
    "        return 'low'\n",
    "    elif (row['rating'] > 2.0) and (row['rating'] <= 4.0):\n",
    "        return 'medium'\n",
    "    elif row['rating'] > 4.0:\n",
    "        return 'high'\n",
    "    else:\n",
    "        return 'undefined'\n",
    "\n",
    "films_rating['class'] = films_rating.apply(range_maker, axis=1)\n",
    "\n",
    "\n",
    "films_rating.head(15)"
   ]
  },
  {
   "cell_type": "markdown",
   "id": "2566ce5c",
   "metadata": {},
   "source": [
    "## Задание 2"
   ]
  },
  {
   "cell_type": "code",
   "execution_count": 4,
   "id": "228cfccd",
   "metadata": {},
   "outputs": [],
   "source": [
    "requests  = pd.read_csv('keywords.csv') "
   ]
  },
  {
   "cell_type": "code",
   "execution_count": 7,
   "id": "201af1f1",
   "metadata": {},
   "outputs": [
    {
     "data": {
      "text/plain": [
       "undefined         99281\n",
       "Центр               387\n",
       "Северо-Запад        238\n",
       "Дальний Восток       94\n",
       "Name: region, dtype: int64"
      ]
     },
     "execution_count": 7,
     "metadata": {},
     "output_type": "execute_result"
    }
   ],
   "source": [
    "def GeoClassifier(file_csv):\n",
    "    if 'москва' in file_csv['keyword'] or 'тула' in file_csv['keyword'] or 'ярославль' in file_csv['keyword']:\n",
    "        return 'Центр'\n",
    "    elif 'петербург' in file_csv['keyword'] or 'псков' in file_csv['keyword'] or 'псков' in file_csv['keyword']:\n",
    "        return 'Северо-Запад'\n",
    "    elif 'владивосток' in file_csv['keyword'] or 'сахалин' in file_csv['keyword'] or 'хабаровск' in file_csv['keyword']:\n",
    "        return 'Дальний Восток'\n",
    "    else:\n",
    "        return 'undefined'\n",
    "\n",
    "requests['region'] = requests.apply(GeoClassifier, axis=1)\n",
    "\n",
    "requests['region'].value_counts()"
   ]
  }
 ],
 "metadata": {
  "kernelspec": {
   "display_name": "Python 3",
   "language": "python",
   "name": "python3"
  },
  "language_info": {
   "codemirror_mode": {
    "name": "ipython",
    "version": 3
   },
   "file_extension": ".py",
   "mimetype": "text/x-python",
   "name": "python",
   "nbconvert_exporter": "python",
   "pygments_lexer": "ipython3",
   "version": "3.8.8"
  }
 },
 "nbformat": 4,
 "nbformat_minor": 5
}
